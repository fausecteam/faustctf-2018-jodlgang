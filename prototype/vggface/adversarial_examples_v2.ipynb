{
 "cells": [
  {
   "cell_type": "markdown",
   "metadata": {},
   "source": [
    "# Adversarial examples\n",
    "\n",
    "This notebook shows a step-by-step guide how to craft adversarial examples. The examples are optimized using TensorFlow, and the results can be manually cross-checked with our pure-Python CNN implementation.\n",
    "The notebook provided the steps necessary to exploit two vulnerabilities:\n",
    "1. Coming up with an image that triggers an activation at the desired output class.\n",
    "2. Creating an overflow in `np.exp()` if we forget to use softmax normalization."
   ]
  },
  {
   "cell_type": "code",
   "execution_count": 41,
   "metadata": {
    "collapsed": true
   },
   "outputs": [],
   "source": [
    "%matplotlib notebook\n",
    "import matplotlib.pyplot as plt\n",
    "import tensorflow as tf\n",
    "import numpy as np\n",
    "import os\n",
    "from PIL import Image\n",
    "from io import BytesIO\n",
    "from scipy.misc import imread\n",
    "import math\n",
    "from vggface.tf_vggface_v2 import VGGFace as TfVGGFace\n",
    "from vggface.model import VGGFace as MyVGGFace\n",
    "import tensorflow as tf\n",
    "import random\n",
    "import json\n",
    "import re\n",
    "\n",
    "\n",
    "dataset_path = \"/media/explicat/Moosilauke/ctf/facescrub/training\"\n",
    "tf_checkpoint_dir = \"/media/explicat/Moosilauke/ctf/vggface/checkpoint_pretrained_530_lr_0.000001\"\n",
    "my_cnn_weights_file = \"/home/explicat/ctf/jodlgang/prototype/vggface/weights_pretrained_530_lr_0.000001.h5\"\n",
    "num_classes = 530"
   ]
  },
  {
   "cell_type": "markdown",
   "metadata": {},
   "source": [
    "Find all image files."
   ]
  },
  {
   "cell_type": "code",
   "execution_count": 2,
   "metadata": {
    "collapsed": true
   },
   "outputs": [],
   "source": [
    "img_files = [os.path.join(dp, f) for dp, dn, filenames in os.walk(dataset_path) for f in filenames if re.search(\".(jpg|jpeg|png)$\", f.lower()) is not None]\n",
    "random.shuffle(img_files)"
   ]
  },
  {
   "cell_type": "markdown",
   "metadata": {},
   "source": [
    "Load the mapping from class number to person."
   ]
  },
  {
   "cell_type": "code",
   "execution_count": 30,
   "metadata": {
    "collapsed": true
   },
   "outputs": [],
   "source": [
    "name_to_class_label_mapping_file = os.path.join(dataset_path, \"class_label_mapping.json\")\n",
    "with open(name_to_class_label_mapping_file, \"r\") as f:\n",
    "    name_to_class_label_mapping = json.load(f)\n",
    "\n",
    "def decode_single_prediction(probabilities):\n",
    "    top_5_classes = np.argsort(-probabilities)[:5]\n",
    "    top_5_identities = np.array(name_to_class_label_mapping)[top_5_classes]\n",
    "    return list(zip(top_5_identities, top_5_classes, probabilities[top_5_classes]))\n",
    "\n",
    "def tf_classify(img):\n",
    "    feed_dict = {img_var: img}\n",
    "    class_probabilities = sess.run(cnn_output, feed_dict=feed_dict)[0]\n",
    "    print(decode_single_prediction(class_probabilities))\n",
    "    \n",
    "def my_classify(img):\n",
    "    class_probabilities = my_cnn.inference(img[None, :])[0]\n",
    "    print(decode_single_prediction(class_probabilities))"
   ]
  },
  {
   "cell_type": "markdown",
   "metadata": {},
   "source": [
    "Restore TensorFlow model from checkpoint."
   ]
  },
  {
   "cell_type": "code",
   "execution_count": 4,
   "metadata": {},
   "outputs": [
    {
     "name": "stdout",
     "output_type": "stream",
     "text": [
      "Attempting to read checkpoint from /media/explicat/Moosilauke/ctf/vggface/checkpoint_pretrained_530_lr_0.000001\n",
      "INFO:tensorflow:Restoring parameters from /media/explicat/Moosilauke/ctf/vggface/checkpoint_pretrained_530_lr_0.000001/VGGFace_v2-78000\n",
      "Successfully restored checkpoint\n"
     ]
    }
   ],
   "source": [
    "sess = tf.InteractiveSession()\n",
    "img_var = tf.Variable(tf.zeros((224, 224, 3)))\n",
    "tf_cnn = TfVGGFace(sess, num_classes, auto_setup_model=False)\n",
    "\n",
    "cnn_output, cnn_output_logits = tf_cnn.model(tf.expand_dims(img_var, 0), drop_rate=0, num_classes=num_classes)\n",
    "trainable_vars = tf.trainable_variables()\n",
    "trainable_vars.remove(img_var)\n",
    "saver = tf.train.Saver(var_list=trainable_vars)\n",
    "tf_cnn.load(tf_checkpoint_dir, saver);"
   ]
  },
  {
   "cell_type": "markdown",
   "metadata": {},
   "source": [
    "Restore our pure python model."
   ]
  },
  {
   "cell_type": "code",
   "execution_count": 42,
   "metadata": {},
   "outputs": [],
   "source": [
    "my_cnn = MyVGGFace()\n",
    "my_cnn.restore_weights(my_cnn_weights_file)"
   ]
  },
  {
   "cell_type": "markdown",
   "metadata": {},
   "source": [
    "## Crafting adversarial examples\n",
    "\n",
    "### Initialization\n",
    "Copy the placeholder into the variable which is the input to the computational graph."
   ]
  },
  {
   "cell_type": "code",
   "execution_count": 14,
   "metadata": {},
   "outputs": [],
   "source": [
    "x = tf.placeholder(tf.float32, (224, 224, 3))\n",
    "\n",
    "# Set up trainable adversarial input\n",
    "x_hat = img_var\n",
    "assign_op = tf.assign(x_hat, x)"
   ]
  },
  {
   "cell_type": "markdown",
   "metadata": {
    "collapsed": true
   },
   "source": [
    "### Gradient descent step\n",
    "\n",
    "Use gradient descent to maximize the log probability of the desired output class."
   ]
  },
  {
   "cell_type": "code",
   "execution_count": 15,
   "metadata": {
    "collapsed": true
   },
   "outputs": [],
   "source": [
    "learning_rate = tf.placeholder(tf.float32, ())\n",
    "y_hat = tf.placeholder(tf.int32, ())\n",
    "\n",
    "labels = tf.one_hot(y_hat, num_classes)\n",
    "loss_sample = tf.nn.softmax_cross_entropy_with_logits(logits=cnn_output_logits, labels=[labels])\n",
    "loss = tf.reduce_sum(loss_sample)\n",
    "optimization_step = tf.train.GradientDescentOptimizer(learning_rate).minimize(loss, var_list=[x_hat])"
   ]
  },
  {
   "cell_type": "markdown",
   "metadata": {},
   "source": [
    "### Projection step\n",
    "Keep adversarial example visually close to the original image. Clip to `[0, 255]` range."
   ]
  },
  {
   "cell_type": "code",
   "execution_count": 17,
   "metadata": {},
   "outputs": [],
   "source": [
    "epsilon = tf.placeholder(tf.float32, ())\n",
    "\n",
    "below = x - epsilon\n",
    "above = x + epsilon\n",
    "epsilon_clipped = tf.clip_by_value(x_hat, below, above)\n",
    "valid_clipped = tf.clip_by_value(epsilon_clipped, 0, 255)\n",
    "\n",
    "with tf.control_dependencies([valid_clipped]):\n",
    "    project_step = tf.assign(x_hat, valid_clipped)"
   ]
  },
  {
   "cell_type": "markdown",
   "metadata": {},
   "source": [
    "### Execution\n",
    "\n",
    "Turn random image into class 42"
   ]
  },
  {
   "cell_type": "code",
   "execution_count": 27,
   "metadata": {},
   "outputs": [
    {
     "name": "stdout",
     "output_type": "stream",
     "text": [
      "Step: 10, loss 0.00\n",
      "Step: 20, loss 0.00\n",
      "Step: 30, loss 0.00\n",
      "Step: 40, loss 0.00\n",
      "Step: 50, loss 0.00\n"
     ]
    }
   ],
   "source": [
    "demo_epsilon = 5.0\n",
    "demo_learning_rate = 1e4\n",
    "demo_steps = 50\n",
    "demo_target = 42\n",
    "\n",
    "# Initialization step\n",
    "original_img = imread(img_files[0])[:, :, :3]\n",
    "sess.run(assign_op, feed_dict={x: original_img})\n",
    "\n",
    "# Projected gradient descent\n",
    "for i in range(demo_steps):\n",
    "    # Gradient descent step\n",
    "    _, loss_val = sess.run([optimization_step, loss], feed_dict={learning_rate: demo_learning_rate, y_hat: demo_target})\n",
    "    # Projection step\n",
    "    sess.run(project_step, feed_dict={x: original_img, epsilon: demo_epsilon})\n",
    "    # Pront progress after every 10 steps\n",
    "    if (i + 1) % 10 == 0:\n",
    "        print(\"Step: {:d}, loss {:3.2f}\".format(i + 1, loss_val))\n",
    "        \n",
    "# Retrieve the adversarial example\n",
    "adv = x_hat.eval()\n",
    "adv_uint8 = adv.astype(np.uint8)"
   ]
  },
  {
   "cell_type": "markdown",
   "metadata": {},
   "source": [
    "Print classification."
   ]
  },
  {
   "cell_type": "code",
   "execution_count": 33,
   "metadata": {},
   "outputs": [
    {
     "name": "stdout",
     "output_type": "stream",
     "text": [
      "[('Robert_Redford', 42, 0.99992526), ('Jenilee_Harrison', 403, 1.9556934e-05), ('Christian_Bale', 24, 8.629233e-06), ('Jerry_Seinfeld', 123, 7.749858e-06), ('Kevin_Connolly', 297, 5.350144e-06)]\n"
     ]
    }
   ],
   "source": [
    "tf_classify(adv_uint8)"
   ]
  },
  {
   "cell_type": "markdown",
   "metadata": {},
   "source": [
    "## Check whether our own CNN implementation produces the same output"
   ]
  },
  {
   "cell_type": "code",
   "execution_count": 43,
   "metadata": {},
   "outputs": [
    {
     "name": "stdout",
     "output_type": "stream",
     "text": [
      "Feeding through layer conv1_1\n",
      "Feeding through layer conv1_2\n",
      "Feeding through layer pool1\n",
      "Feeding through layer conv2_1\n",
      "Feeding through layer conv2_2\n",
      "Feeding through layer pool2\n",
      "Feeding through layer conv3_1\n",
      "Feeding through layer conv3_2\n",
      "Feeding through layer conv3_3\n",
      "Feeding through layer pool3\n",
      "Feeding through layer conv4_1\n",
      "Feeding through layer conv4_2\n",
      "Feeding through layer conv4_3\n",
      "Feeding through layer pool4\n",
      "Feeding through layer conv5_1\n",
      "Feeding through layer conv5_2\n",
      "Feeding through layer conv5_3\n",
      "Feeding through layer pool5\n",
      "Feeding through layer fc6\n",
      "Feeding through layer fc7\n",
      "Feeding through layer fc8\n",
      "[('Robert_Redford', 42, 0.99992537770515921), ('Jenilee_Harrison', 403, 1.9556848866794792e-05), ('Christian_Bale', 24, 8.6291494600134487e-06), ('Jerry_Seinfeld', 123, 7.749831161957529e-06), ('Kevin_Connolly', 297, 5.3501524802967576e-06)]\n"
     ]
    }
   ],
   "source": [
    "my_classify(adv_uint8.astype(np.float))"
   ]
  },
  {
   "cell_type": "markdown",
   "metadata": {},
   "source": [
    "# Overflow the softmax for fun and profit\n",
    "\n",
    "We need to achieve `np.exp(710)`"
   ]
  },
  {
   "cell_type": "code",
   "execution_count": 51,
   "metadata": {},
   "outputs": [
    {
     "name": "stdout",
     "output_type": "stream",
     "text": [
      "Step: 10, max val    82.92\n",
      "1.02456e+36\n",
      "Step: 20, max val   111.75\n",
      "inf\n"
     ]
    },
    {
     "name": "stderr",
     "output_type": "stream",
     "text": [
      "/home/explicat/uni/image-forensics/ml/lib/python3.5/site-packages/ipykernel_launcher.py:20: RuntimeWarning: overflow encountered in exp\n"
     ]
    },
    {
     "name": "stdout",
     "output_type": "stream",
     "text": [
      "Step: 30, max val    99.22\n",
      "inf\n",
      "Step: 40, max val   119.37\n",
      "inf\n",
      "Step: 50, max val    92.76\n",
      "inf\n"
     ]
    }
   ],
   "source": [
    "negative_max = -tf.reduce_max(cnn_output_logits)\n",
    "smashing_step = tf.train.GradientDescentOptimizer(learning_rate).minimize(negative_max, var_list=[x_hat])\n",
    "\n",
    "demo_epsilon = 25.0\n",
    "demo_learning_rate = 1e5\n",
    "demo_steps = 50\n",
    "\n",
    "# Initialization step\n",
    "sess.run(assign_op, feed_dict={x: original_img})\n",
    "\n",
    "# Projected gradient descent\n",
    "for i in range(demo_steps):\n",
    "    # Gradient descent step\n",
    "    _, max_val = sess.run([smashing_step, negative_max], feed_dict={learning_rate: demo_learning_rate})\n",
    "    # Projection step\n",
    "    sess.run(project_step, feed_dict={x: original_img, epsilon: demo_epsilon})\n",
    "    # Print progress after every 10 steps\n",
    "    if (i + 1) % 10 == 0:\n",
    "        print(\"Step: {:d}, max val {:8.2f}\".format(i + 1, -max_val))\n",
    "        print(np.exp(-max_val))\n",
    "        \n",
    "# Retrieve the adversarial example\n",
    "maximum_adv = x_hat.eval()\n",
    "maximum_adv_uint8 = maximum_adv.astype(np.uint8)"
   ]
  },
  {
   "cell_type": "markdown",
   "metadata": {},
   "source": [
    "**TensorFlow**: Feed through all layers except for softmax activation"
   ]
  },
  {
   "cell_type": "code",
   "execution_count": 52,
   "metadata": {},
   "outputs": [
    {
     "name": "stdout",
     "output_type": "stream",
     "text": [
      "[[  0.   0.   0.   0.   0.   0.   0.   0.   0.   0.   0.   0.   0.   0.\n",
      "    0.   0.   0.   0.   0.   0.   0.   0.   0.   0.   0.   0.   0.   0.\n",
      "    0.   0.   0.   0.   0.   0.   0.   0.   0.   0.   0.   0.   0.   0.\n",
      "    0.   0.   0.   0.   0.   0.   0.   0.   0.   0.   0.   0.   0.   0.\n",
      "    0.   0.   0.   0.   0.   0.   0.   0.   0.   0.   0.   0.   0.   0.\n",
      "    0.  nan   0.   0.   0.   0.   0.   0.   0.   0.   0.   0.   0.   0.\n",
      "    0.   0.   0.   0.   0.   0.   0.   0.   0.   0.   0.   0.   0.   0.\n",
      "    0.   0.   0.   0.   0.   0.   0.   0.   0.   0.   0.   0.   0.   0.\n",
      "    0.   0.   0.   0.   0.   0.   0.   0.   0.   0.   0.   0.   0.   0.\n",
      "    0.   0.   0.   0.   0.   0.   0.   0.   0.   0.   0.   0.   0.   0.\n",
      "    0.   0.   0.   0.   0.   0.   0.   0.   0.   0.   0.   0.   0.   0.\n",
      "    0.   0.   0.   0.   0.   0.   0.   0.   0.   0.   0.   0.   0.   0.\n",
      "    0.   0.   0.   0.   0.   0.   0.   0.   0.   0.   0.   0.   0.   0.\n",
      "    0.   0.   0.   0.   0.   0.   0.   0.   0.   0.   0.   0.   0.   0.\n",
      "    0.   0.   0.   0.   0.   0.   0.   0.   0.   0.   0.   0.   0.   0.\n",
      "    0.   0.   0.   0.   0.   0.   0.   0.   0.   0.   0.   0.   0.   0.\n",
      "    0.   0.   0.   0.   0.   0.   0.   0.   0.   0.   0.   0.   0.   0.\n",
      "    0.   0.   0.   0.   0.   0.   0.   0.   0.   0.   0.   0.   0.   0.\n",
      "    0.   0.   0.   0.   0.   0.   0.   0.   0.   0.   0.   0.   0.   0.\n",
      "    0.   0.   0.   0.   0.   0.   0.   0.   0.   0.   0.   0.   0.   0.\n",
      "    0.   0.   0.   0.   0.   0.   0.   0.   0.   0.   0.   0.   0.   0.\n",
      "    0.   0.   0.   0.   0.   0.   0.   0.   0.   0.   0.   0.   0.   0.\n",
      "    0.   0.   0.   0.   0.   0.   0.   0.   0.   0.   0.   0.   0.   0.\n",
      "    0.   0.   0.   0.   0.   0.   0.   0.   0.   0.   0.   0.   0.   0.\n",
      "    0.   0.   0.   0.   0.   0.   0.   0.   0.   0.   0.   0.   0.   0.\n",
      "    0.   0.   0.   0.   0.   0.   0.   0.   0.   0.   0.   0.   0.   0.\n",
      "    0.   0.   0.   0.   0.   0.   0.   0.   0.   0.   0.   0.   0.   0.\n",
      "    0.   0.   0.   0.   0.   0.   0.   0.   0.   0.   0.   0.   0.   0.\n",
      "    0.   0.   0.   0.   0.   0.   0.   0.   0.   0.   0.   0.   0.   0.\n",
      "    0.   0.   0.   0.   0.   0.   0.   0.   0.   0.   0.   0.   0.   0.\n",
      "    0.   0.   0.   0.   0.   0.   0.   0.   0.   0.   0.   0.   0.   0.\n",
      "    0.   0.   0.   0.   0.   0.   0.   0.   0.   0.   0.   0.   0.   0.\n",
      "    0.   0.   0.   0.   0.   0.   0.   0.   0.   0.   0.   0.   0.   0.\n",
      "    0.   0.   0.   0.   0.   0.   0.   0.   0.   0.   0.   0.   0.   0.\n",
      "    0.   0.   0.   0.   0.   0.   0.   0.   0.   0.   0.   0.   0.   0.\n",
      "    0.   0.   0.   0.   0.   0.   0.   0.   0.   0.   0.   0.   0.   0.\n",
      "    0.   0.   0.   0.   0.   0.   0.   0.   0.   0.   0.   0.   0.   0.\n",
      "    0.   0.   0.   0.   0.   0.   0.   0.   0.   0.   0.   0.]]\n"
     ]
    },
    {
     "name": "stderr",
     "output_type": "stream",
     "text": [
      "/home/explicat/uni/image-forensics/ml/lib/python3.5/site-packages/ipykernel_launcher.py:2: RuntimeWarning: overflow encountered in exp\n",
      "  \n",
      "/home/explicat/uni/image-forensics/ml/lib/python3.5/site-packages/ipykernel_launcher.py:2: RuntimeWarning: invalid value encountered in true_divide\n",
      "  \n"
     ]
    }
   ],
   "source": [
    "logits_vals = sess.run(cnn_output_logits, feed_dict={x: maximum_adv_uint8})\n",
    "print(np.exp(logits_vals) / np.sum(np.exp(logits_vals)))"
   ]
  },
  {
   "cell_type": "markdown",
   "metadata": {},
   "source": [
    "**MyCNN**: We expect an overflow error"
   ]
  },
  {
   "cell_type": "code",
   "execution_count": 53,
   "metadata": {
    "scrolled": false
   },
   "outputs": [
    {
     "name": "stdout",
     "output_type": "stream",
     "text": [
      "Feeding through layer conv1_1\n",
      "Feeding through layer conv1_2\n",
      "Feeding through layer pool1\n",
      "Feeding through layer conv2_1\n",
      "Feeding through layer conv2_2\n",
      "Feeding through layer pool2\n",
      "Feeding through layer conv3_1\n",
      "Feeding through layer conv3_2\n",
      "Feeding through layer conv3_3\n",
      "Feeding through layer pool3\n",
      "Feeding through layer conv4_1\n",
      "Feeding through layer conv4_2\n",
      "Feeding through layer conv4_3\n",
      "Feeding through layer pool4\n",
      "Feeding through layer conv5_1\n",
      "Feeding through layer conv5_2\n",
      "Feeding through layer conv5_3\n",
      "Feeding through layer pool5\n",
      "Feeding through layer fc6\n",
      "Feeding through layer fc7\n",
      "Feeding through layer fc8\n",
      "[[  7.39700886e-61   4.82014565e-53   8.67390142e-64   4.50857340e-55\n",
      "    7.06640442e-55   1.15708161e-49   2.88871853e-59   7.62853331e-60\n",
      "    3.02918597e-49   3.77402565e-52   1.08593982e-54   1.52134138e-60\n",
      "    2.19832353e-41   4.15977120e-63   4.13991352e-56   1.44274893e-61\n",
      "    1.44724779e-65   2.64357920e-62   1.20841283e-52   7.43530906e-53\n",
      "    9.31298117e-48   7.91140647e-63   1.85800401e-65   4.26437477e-56\n",
      "    6.28356235e-47   3.27091759e-47   3.71057272e-53   2.04017556e-48\n",
      "    2.01269568e-53   1.50962429e-63   2.02536521e-69   8.56974026e-55\n",
      "    2.52061446e-56   2.53739595e-57   6.32215743e-65   3.41829040e-55\n",
      "    1.27582765e-55   1.13038764e-60   8.78452994e-51   5.32923726e-49\n",
      "    1.47605107e-53   5.75222789e-55   1.17367789e-56   1.46777362e-52\n",
      "    3.70326877e-57   8.57275911e-42   2.13606984e-59   8.13460652e-50\n",
      "    4.81813436e-53   1.92642322e-53   2.17097060e-55   6.88864013e-53\n",
      "    6.21008257e-60   1.96445474e-58   1.66608104e-62   3.58283556e-48\n",
      "    1.35438014e-54   2.30645558e-58   2.61911679e-54   5.18125392e-51\n",
      "    3.67491341e-53   3.11377997e-43   2.05909262e-48   2.56208572e-59\n",
      "    6.59428369e-60   1.12671505e-63   2.82489251e-58   6.87164103e-61\n",
      "    3.14712980e-60   7.67395879e-53   3.43359730e-59   1.00000000e+00\n",
      "    2.36970988e-68   2.26046407e-57   3.33543740e-57   1.62865488e-55\n",
      "    4.52653363e-63   2.85524458e-59   5.10994143e-64   1.17449069e-59\n",
      "    7.68100731e-51   2.90639029e-49   3.42131803e-53   1.72984754e-54\n",
      "    4.81893261e-56   7.88250328e-58   4.12205543e-59   9.18947289e-57\n",
      "    2.55192817e-54   4.67774222e-61   7.07726960e-62   1.76534317e-54\n",
      "    6.05585838e-57   1.53930478e-58   1.12904693e-62   4.14741958e-52\n",
      "    1.27278527e-49   3.32013081e-57   6.47151821e-60   2.03973769e-63\n",
      "    7.28759590e-53   3.33591921e-46   4.19349489e-51   7.05070052e-56\n",
      "    8.52806739e-51   4.86443488e-57   1.98796353e-59   1.62924481e-54\n",
      "    5.62989813e-55   2.32834419e-53   4.38113101e-55   8.22777684e-48\n",
      "    1.07972765e-51   1.52918834e-55   1.45883722e-54   2.40716187e-58\n",
      "    1.46123885e-63   2.00353498e-54   7.42157869e-64   4.61688331e-59\n",
      "    3.10087923e-59   1.70276902e-63   3.46720549e-53   2.09962090e-52\n",
      "    1.74124088e-47   4.80434628e-54   1.41184220e-59   8.89887156e-57\n",
      "    4.31871607e-59   3.75107120e-58   9.35374081e-39   9.15120019e-59\n",
      "    2.96530160e-52   1.63317561e-50   1.93668983e-62   2.19936181e-54\n",
      "    2.60192939e-60   6.33561881e-50   2.89933413e-56   7.81754090e-62\n",
      "    1.39755049e-65   5.93696576e-50   4.27070742e-50   1.48774029e-60\n",
      "    1.56915220e-55   5.04152890e-59   6.45956110e-50   9.82595995e-54\n",
      "    1.62315965e-53   5.29252704e-56   6.58166214e-62   2.46503347e-58\n",
      "    1.45752324e-52   4.17469396e-60   2.28648066e-63   4.16059227e-55\n",
      "    9.83356071e-54   1.68597945e-49   2.15960086e-47   1.52023864e-62\n",
      "    7.97915468e-57   1.18865742e-63   1.01772777e-58   3.57895986e-57\n",
      "    8.67804086e-63   1.21212996e-63   9.35738732e-55   6.08452731e-48\n",
      "    8.51078547e-57   1.26155183e-57   1.74430897e-51   4.53409494e-53\n",
      "    2.70147337e-54   3.73228168e-47   3.43035484e-61   1.36645919e-51\n",
      "    1.52623142e-46   1.13961709e-59   1.10719575e-43   3.68172485e-52\n",
      "    1.30510403e-54   1.27981200e-57   1.96169212e-55   1.09878678e-49\n",
      "    1.61593607e-54   2.81777281e-63   2.82702442e-55   4.01393507e-60\n",
      "    7.30569624e-60   8.60709485e-64   9.98723049e-64   1.10703942e-62\n",
      "    2.13178825e-49   4.63142428e-67   5.34535593e-54   3.91609787e-68\n",
      "    1.55175965e-54   1.50560469e-61   4.46033651e-50   8.84903320e-50\n",
      "    4.82469363e-57   3.26996988e-50   3.16366877e-62   2.88438313e-47\n",
      "    1.55577043e-61   4.05020940e-63   2.78227830e-58   1.99998282e-58\n",
      "    6.13153025e-62   2.93958836e-63   1.36809610e-54   1.02430285e-44\n",
      "    2.84169068e-45   2.58518213e-44   2.24969036e-59   3.15089831e-54\n",
      "    3.09429971e-59   2.74647854e-54   7.69835216e-64   4.88490188e-52\n",
      "    3.26385851e-63   7.40552279e-61   7.88939108e-52   1.73841384e-55\n",
      "    1.67367885e-60   3.35085797e-57   2.92394719e-57   1.55969000e-60\n",
      "    1.83052999e-49   3.35635132e-56   1.90216031e-62   3.66036863e-60\n",
      "    5.06009187e-50   1.75802439e-56   6.85531051e-54   2.59653338e-58\n",
      "    8.44410247e-66   3.94298664e-58   2.54386212e-62   1.77301609e-61\n",
      "    1.44530786e-60   6.00804483e-55   5.04694078e-53   5.67580670e-50\n",
      "    2.39466439e-52   8.21372741e-53   1.04759450e-63   6.24937181e-56\n",
      "    5.25074790e-61   1.36950523e-55   2.19165803e-53   2.20528346e-60\n",
      "    3.97969310e-53   1.07692145e-62   3.30534914e-56   3.07069008e-55\n",
      "    1.40861184e-54   2.13084214e-54   7.64093060e-55   1.97300735e-51\n",
      "    1.86235672e-59   1.71401712e-49   2.13883215e-47   3.97836541e-47\n",
      "    1.72452107e-55   3.17326634e-58   1.61244630e-62   6.77449532e-60\n",
      "    2.98041804e-61   1.30892481e-57   1.36698005e-62   4.44718504e-66\n",
      "    2.19651018e-58   1.46676133e-66   4.41624421e-48   2.90435917e-63\n",
      "    1.81267585e-68   3.81706779e-63   8.20070252e-59   6.91556329e-54\n",
      "    1.03688989e-56   1.33130676e-53   1.81351317e-56   3.12018406e-52\n",
      "    4.20667590e-61   9.34352896e-62   5.69424725e-65   7.42920984e-54\n",
      "    4.52464286e-58   3.05526843e-52   1.81759914e-60   1.38659462e-52\n",
      "    2.93669946e-55   3.69933922e-61   2.07750815e-58   2.58901926e-54\n",
      "    1.81607050e-63   1.17035123e-57   3.03103741e-62   8.50065446e-52\n",
      "    1.09230263e-45   3.61244737e-48   3.66477128e-49   9.14026033e-56\n",
      "    3.46307155e-48   1.65561214e-45   3.08865598e-50   2.83264915e-64\n",
      "    3.24321585e-59   3.25981879e-61   9.52605573e-63   5.48215956e-71\n",
      "    8.42744409e-53   2.30389054e-55   3.39970417e-55   1.38485449e-59\n",
      "    1.63059165e-55   3.86694332e-54   4.81741710e-46   1.67629590e-47\n",
      "    1.97818555e-59   6.34709037e-39   9.36284951e-44   1.24663168e-58\n",
      "    6.34222517e-55   3.24835881e-44   1.12120859e-44   1.43680798e-55\n",
      "    6.09429910e-65   3.29404036e-52   5.16313870e-50   3.30711889e-51\n",
      "    1.83353336e-59   1.44459921e-45   4.30214525e-58   6.96280125e-52\n",
      "    3.09177960e-60   2.45273915e-55   1.59035496e-64   3.32557546e-59\n",
      "    1.97475573e-62   5.79525491e-53   3.26615004e-61   3.51674823e-56\n",
      "    5.06284027e-62   4.64749889e-55   1.37472370e-53   3.28834160e-64\n",
      "    4.49291002e-55   1.78151708e-56   4.71000265e-62   1.44772441e-49\n",
      "    1.94260666e-52   3.46355672e-53   1.86458083e-66   3.38232074e-49\n",
      "    1.68230423e-57   2.21963261e-55   3.12002138e-51   3.32628816e-66\n",
      "    9.75505896e-50   1.03535038e-68   1.06514451e-50   3.29054179e-52\n",
      "    2.94166673e-55   2.65633170e-49   2.56601140e-51   8.85244480e-54\n",
      "    9.70798468e-58   4.06361924e-56   7.09168521e-52   1.26785127e-47\n",
      "    1.52617920e-56   2.24279013e-59   2.09146980e-57   1.42936992e-60\n",
      "    5.47200094e-55   8.46001161e-57   2.23690689e-47   3.11907144e-54\n",
      "    2.14355351e-41   9.23314142e-70   4.16939408e-58   1.55736331e-60\n",
      "    2.50676082e-53   2.60566073e-64   1.43438493e-62   2.58876769e-61\n",
      "    5.28864704e-53   4.55655266e-62   2.03650462e-57   2.40570677e-52\n",
      "    3.54249449e-55   2.19725230e-66   4.45064446e-49   1.82878749e-55\n",
      "    2.34648632e-52   6.92073701e-61   3.86737503e-53   1.34207380e-65\n",
      "    1.45428204e-45   1.66087667e-63   1.05326485e-49   7.21274550e-55\n",
      "    4.88128896e-64   3.63331212e-65   6.05452038e-61   9.58874243e-61\n",
      "    1.17317216e-64   6.91163821e-57   4.53954651e-54   2.54836095e-53\n",
      "    1.18183825e-46   6.73913690e-50   1.26008500e-52   2.33785321e-57\n",
      "    3.34409050e-51   6.11549625e-64   2.53836455e-50   1.97445941e-54\n",
      "    9.16038503e-51   3.84550114e-58   1.36353469e-59   1.75517400e-52\n",
      "    7.00315708e-59   3.79619715e-50   1.63675305e-73   1.33379744e-50\n",
      "    7.31627306e-56   1.20720663e-66   8.60521618e-57   1.84648390e-48\n",
      "    7.63027772e-62   1.59568053e-59   1.95769255e-48   3.97211600e-60\n",
      "    3.62159170e-57   1.25715469e-63   8.58215688e-53   2.92984878e-59\n",
      "    1.57673333e-60   5.69904801e-55   1.29846756e-56   3.08172846e-59\n",
      "    1.15451707e-60   1.34128837e-54   2.02406854e-49   5.09969962e-53\n",
      "    3.01228547e-48   3.41270693e-58   6.61455701e-57   2.45707403e-56\n",
      "    1.29907326e-51   2.44809821e-61   4.00321388e-50   1.96357730e-51\n",
      "    1.68213279e-54   2.55503768e-59   2.58314843e-56   4.13666921e-54\n",
      "    8.24349676e-53   8.30087159e-56   1.05265111e-61   1.56833746e-59\n",
      "    3.52136968e-58   4.74441557e-72   3.16737155e-58   1.83600455e-47\n",
      "    6.94759606e-62   1.23084451e-62   1.24026327e-65   4.42730788e-53\n",
      "    1.55868648e-55   4.02114758e-55   8.04962562e-51   3.95531007e-58\n",
      "    4.08059347e-57   1.87293167e-61   4.89443904e-63   2.22709754e-55\n",
      "    1.16119233e-65   5.67188462e-54   6.42733566e-58   3.19698302e-55\n",
      "    1.07181841e-60   1.12496253e-57   1.02049402e-58   8.13060240e-59\n",
      "    1.09870543e-64   1.92053887e-54   5.40134413e-53   1.26549129e-58\n",
      "    3.08039759e-52   1.00757879e-62   1.55024285e-51   1.88340673e-53\n",
      "    2.59515389e-53   9.14899873e-52   1.21200693e-54   8.34707072e-53\n",
      "    1.49875934e-68   4.17598943e-61   2.58161313e-62   3.46388289e-54\n",
      "    2.02926714e-57   2.02103800e-55   1.43475639e-63   2.91743978e-52\n",
      "    6.29718111e-56   1.20568282e-66   3.19304688e-58   1.75064620e-59\n",
      "    5.55063950e-52   4.67760080e-63   8.02810797e-51   1.88944727e-51\n",
      "    3.49604599e-54   2.00840108e-63   7.05148943e-56   8.14866204e-58\n",
      "    2.72940246e-58   6.84857301e-51   1.57253027e-60   1.45035430e-69\n",
      "    2.27176646e-46   8.76087901e-61   2.01976684e-57   5.83249818e-55\n",
      "    4.74292054e-52   8.15925613e-58]]\n"
     ]
    }
   ],
   "source": [
    "print(my_cnn.inference(maximum_adv_uint8[None, :].astype(np.float)))"
   ]
  },
  {
   "cell_type": "code",
   "execution_count": null,
   "metadata": {
    "collapsed": true
   },
   "outputs": [],
   "source": []
  }
 ],
 "metadata": {
  "kernelspec": {
   "display_name": "Python 3",
   "language": "python",
   "name": "python3"
  },
  "language_info": {
   "codemirror_mode": {
    "name": "ipython",
    "version": 3
   },
   "file_extension": ".py",
   "mimetype": "text/x-python",
   "name": "python",
   "nbconvert_exporter": "python",
   "pygments_lexer": "ipython3",
   "version": "3.5.2"
  }
 },
 "nbformat": 4,
 "nbformat_minor": 2
}
